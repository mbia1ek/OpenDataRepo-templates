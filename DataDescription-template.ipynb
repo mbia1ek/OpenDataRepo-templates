{
 "cells": [
  {
   "cell_type": "markdown",
   "id": "3c2787af-3752-4257-837d-be0d18da87ad",
   "metadata": {},
   "source": [
    "## Repo title"
   ]
  },
  {
   "cell_type": "markdown",
   "id": "ce29a245-ae80-4a44-92fb-82a264048990",
   "metadata": {},
   "source": [
    "    @info\n",
    "       DESCRIPTION:\n",
    "        The dataset consists of ...\n",
    "\n",
    "       LICENSE:\n",
    "    The data are under Creative Commons License CC BY. It is though recommended to manipulate along with the author to fully understand the outcomes. If you have any questions do not hesitate to contact: ...\n",
    "    \n",
    "    This research was funded by ..., grant number: .... https://ror.org/...\n",
    "    \n",
    "    --------------------------------------------------------------------------------------------------------------------------------------------------------------------------------------------------------\n",
    "    FILES:\n",
    "        \"dataset_1.csv\" - processed measurement data ...\n",
    "        \"dataset_2.csv\" - processed measurement data ...\n",
    "    \n",
    "    For proper interpretation, please refer to the images provided below (if any).\n",
    "    --------------------------------------------------------------------------------------------------------------------------------------------------------------------------------------------------------\n",
    "    COLUMNS in \"dataset_1.csv\":       \n",
    "        - Column 1 [units] - description;\n",
    "        - Column 2 [units] - description;\n",
    "        ...\n",
    " --------------------------------------------------------------------------------------------------------------------------------------------------------------------------------------------------------"
   ]
  },
  {
   "cell_type": "markdown",
   "id": "a22e8dd1-eadb-458c-a0b4-6cc6feefdb60",
   "metadata": {
    "tags": []
   },
   "source": [
    "### IMAGES AND OTHER PICTURES DESCRIBING THE DATASET (I.E. TEST BENCH, MEASURING PROCEDURE ETC.)"
   ]
  },
  {
   "cell_type": "markdown",
   "id": "0712dd31-65f2-42ed-a388-21fa955b0f5c",
   "metadata": {},
   "source": [
    "\n",
    "###  Fig. 1 Description"
   ]
  },
  {
   "cell_type": "markdown",
   "id": "0d87328c-7136-457a-9a98-97398384b4dc",
   "metadata": {
    "tags": []
   },
   "source": [
    "### DATASET"
   ]
  },
  {
   "cell_type": "code",
   "execution_count": null,
   "id": "9256e990-afa1-42ca-a72c-75f32048119d",
   "metadata": {
    "tags": []
   },
   "outputs": [],
   "source": [
    "import pandas as pd #library to manipulate dataframe"
   ]
  },
  {
   "cell_type": "markdown",
   "id": "761e5f6f-e532-4e9f-96b5-04259af6255a",
   "metadata": {},
   "source": [
    "Read file, make sure that it is located in the same folder, otherwise change the path accordingly:"
   ]
  },
  {
   "cell_type": "code",
   "execution_count": null,
   "id": "acf76771-3702-4e91-b6ef-a09da899c007",
   "metadata": {
    "tags": []
   },
   "outputs": [],
   "source": [
    "df1 = pd.read_csv(\"dataset_1.csv\") #change the filename respectively"
   ]
  },
  {
   "cell_type": "markdown",
   "id": "e029a638-46ea-4470-a40b-978b1858e680",
   "metadata": {},
   "source": [
    "Datasets info. Please see the description above."
   ]
  },
  {
   "cell_type": "code",
   "execution_count": null,
   "id": "5db38db4-4e08-4b2b-8b5d-ea431710805e",
   "metadata": {
    "tags": []
   },
   "outputs": [],
   "source": [
    "df1.info() # brief description of data (types) in the columns"
   ]
  },
  {
   "cell_type": "markdown",
   "id": "3ec74721-3c9a-49cd-afdf-b3ce712e0e9b",
   "metadata": {},
   "source": [
    "Values within the columns. Please see the description above."
   ]
  },
  {
   "cell_type": "code",
   "execution_count": null,
   "id": "6d729904-e543-41fb-9581-27c17e3449c7",
   "metadata": {
    "tags": []
   },
   "outputs": [],
   "source": [
    "print('Column: Column 1 [units] \t| ',df1['Fingertip[-]'].unique(), '\\n') # unique data\n",
    "print('Column: Column 2 [units]     | ') #\n",
    "for a in df1['Column 1'].unique():\n",
    "    temp = df1.loc[df1['Column 1']==a]\n",
    "    print(f'                            For {a}  | ','integers from ', temp['Column 2'].min(),' to ',temp['Column 2'].max(),'\\n') # use when data varies among the each variable in the column\n",
    "print('Column: Column 3 [units] \t| ','floats/intigers from ',df1['Time[s]'].min(),' to ',round(df1['Time[s]'].max(),1),'\\n') # min to max floats or intigers\n"
   ]
  },
  {
   "cell_type": "markdown",
   "id": "a4679c62-1615-4f30-a6c1-30188e60ba05",
   "metadata": {},
   "source": [
    "# \n",
    "#\n",
    "#"
   ]
  }
 ],
 "metadata": {
  "kernelspec": {
   "display_name": "Python 3 (ipykernel)",
   "language": "python",
   "name": "python3"
  },
  "language_info": {
   "codemirror_mode": {
    "name": "ipython",
    "version": 3
   },
   "file_extension": ".py",
   "mimetype": "text/x-python",
   "name": "python",
   "nbconvert_exporter": "python",
   "pygments_lexer": "ipython3",
   "version": "3.11.4"
  }
 },
 "nbformat": 4,
 "nbformat_minor": 5
}
